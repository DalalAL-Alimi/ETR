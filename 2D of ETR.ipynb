{
  "cells": [
    {
      "cell_type": "markdown",
      "source": [
        "# ETR: Enhancing Transformation Reduction for Reducing Dimensionality and Classification Complexity in Hyperspectral Images "
      ],
      "metadata": {
        "id": "1tW1z2h9T9iK"
      }
    },
    {
      "cell_type": "code",
      "execution_count": 1,
      "metadata": {
        "colab": {
          "base_uri": "https://localhost:8080/",
          "height": 17
        },
        "id": "1oUq35BFxzvC",
        "outputId": "4504f7df-b123-48ad-a2bb-f3711f3fd135"
      },
      "outputs": [
        {
          "output_type": "display_data",
          "data": {
            "text/html": [
              "        <script type=\"text/javascript\">\n",
              "        window.PlotlyConfig = {MathJaxConfig: 'local'};\n",
              "        if (window.MathJax) {MathJax.Hub.Config({SVG: {font: \"STIX-Web\"}});}\n",
              "        if (typeof require !== 'undefined') {\n",
              "        require.undef(\"plotly\");\n",
              "        requirejs.config({\n",
              "            paths: {\n",
              "                'plotly': ['https://cdn.plot.ly/plotly-2.8.3.min']\n",
              "            }\n",
              "        });\n",
              "        require(['plotly'], function(Plotly) {\n",
              "            window._Plotly = Plotly;\n",
              "        });\n",
              "        }\n",
              "        </script>\n",
              "        "
            ]
          },
          "metadata": {}
        }
      ],
      "source": [
        "import keras\n",
        "from keras.utils import np_utils\n",
        "from sklearn.model_selection import train_test_split\n",
        "from sklearn.metrics import confusion_matrix, accuracy_score, classification_report, cohen_kappa_score\n",
        "from operator import truediv\n",
        "from plotly.offline import init_notebook_mode\n",
        "\n",
        "from numpy.core.fromnumeric import shape\n",
        "from skimage.morphology import reconstruction\n",
        "from sklearn.preprocessing import QuantileTransformer\n",
        "\n",
        "\n",
        "import numpy as np\n",
        "import matplotlib.pyplot as plt\n",
        "import scipy.io as sio\n",
        "import os\n",
        "import pandas as pd\n",
        "import time\n",
        "import seaborn as sn\n",
        "\n",
        "init_notebook_mode(connected=True)\n",
        "%matplotlib inline"
      ]
    },
    {
      "cell_type": "code",
      "execution_count": 2,
      "metadata": {
        "id": "BUnFj2zpxzvL"
      },
      "outputs": [],
      "source": [
        "def splitTrainTestSet(X, y, testRatio, randomState=345):\n",
        "    X_train, X_test, y_train, y_test = train_test_split(X, y, test_size=testRatio, random_state=randomState,\n",
        "                                                        stratify=y)\n",
        "    return X_train, X_test, y_train, y_test"
      ]
    },
    {
      "cell_type": "markdown",
      "source": [
        "# ETR methods"
      ],
      "metadata": {
        "id": "h7wf7lGBPJM6"
      }
    },
    {
      "cell_type": "code",
      "execution_count": 3,
      "metadata": {
        "id": "n6IrhPizgWnH"
      },
      "outputs": [],
      "source": [
        "import pandas as pd\n",
        "import numpy as np\n",
        "\n",
        "def extract_pixels(X, y):\n",
        "  #q = X.reshape(-1, X.shape[2])\n",
        "  df = pd.DataFrame(data = X)\n",
        "  df = pd.concat([df, pd.DataFrame(data = y.ravel())], axis=1)\n",
        "  df.columns= [f'band{i}' for i in range(1, 1+X.shape[1])]+['class']\n",
        "\n",
        "  return df"
      ]
    },
    {
      "cell_type": "code",
      "execution_count": 4,
      "metadata": {
        "id": "WfmTXCRZgTaQ"
      },
      "outputs": [],
      "source": [
        "def first_step(X, orgin, numComponents):\n",
        "\n",
        "  # Calculate the covariance matrix first\n",
        "  \n",
        "  correlation_matrix = np.corrcoef(orgin.T)\n",
        " \n",
        "  covariance_matrix = np.cov(X.T)   # The result is a Positive semidefinite matrix\n",
        "  \n",
        "  final_matrix = covariance_matrix - correlation_matrix\n",
        "  \n",
        "  # Eigendecomposition of the covariance\n",
        "  eigen_values, eigen_vectors = np.linalg.eig(final_matrix)\n",
        "  # Calculate the variance explained on each of those components\n",
        "  variance_explained = [(i/sum(eigen_values))*100 for i in eigen_values]\n",
        "  # Calculate the cumulative sum of variance explained\n",
        "  cumulative_variance_explained = np.cumsum(variance_explained)\n",
        "  #Taking two components and create a projection matrix\n",
        "  projection_matrix = (eigen_vectors.T[:][:numComponents]).T\n",
        "  \n",
        "  # Calculate the product of X (standardized original data multiply by eigenvectors)\n",
        "\n",
        "  X_w = X.dot(projection_matrix)\n",
        "\n",
        "  return X_w"
      ]
    },
    {
      "cell_type": "code",
      "execution_count": 5,
      "metadata": {
        "id": "vrgm7b96PHBl"
      },
      "outputs": [],
      "source": [
        "def ETR(X1, y1, status = 'max', min_no = 1, numComponents=15):\n",
        "  scaler=[]\n",
        "  y = []\n",
        "  try:\n",
        "\n",
        "    df = extract_pixels(X1, y1)\n",
        "    X = df.iloc[:, :-1]\n",
        "    y = df.iloc[:, -1]\n",
        "    \n",
        "    X = first_step(X,X.iloc[:, :], numComponents)\n",
        "\n",
        "    # the second step of the ETR method\n",
        "    X_mean = X\n",
        "    if status == 'max':\n",
        "      X_mean['mean'] = X_mean.max(axis=1)* min_no\n",
        "\n",
        "    elif status == 'mean':\n",
        "      X_mean['mean'] = X_mean.mean(axis=1)\n",
        "\n",
        "    else:\n",
        "      print(\"You should choose the max or mean status, and if max add the sigma value\")\n",
        "      return None\n",
        "\n",
        "    Avr = [X_mean['mean']]\n",
        "    rep_Avr = np.repeat(Avr, numComponents)\n",
        "    rep_Avr =np.reshape(rep_Avr, (-1,numComponents))\n",
        "    main_X = X.iloc[:, :-1]\n",
        "    seed = main_X - rep_Avr\n",
        "    \n",
        "    dilated = reconstruction(seed.values, main_X.values)    \n",
        "    #print(dilated)\n",
        "    scaler = QuantileTransformer(n_quantiles=15, random_state=0,output_distribution='normal') #\n",
        "    scaler = scaler.fit_transform(dilated)\n",
        "   \n",
        "  except:\n",
        "    print(\"Please use max status with sigma value rather than the min status\")\n",
        "  \n",
        "  return scaler, y "
      ]
    },
    {
      "cell_type": "markdown",
      "metadata": {
        "id": "KlgYeZ51xzvI"
      },
      "source": [
        "# Data Loading"
      ]
    },
    {
      "cell_type": "code",
      "source": [
        "# Importing the libraries\n",
        "import numpy as np\n",
        "import matplotlib.pyplot as plt\n",
        "import pandas as pd\n",
        "\n",
        "# Importing the dataset\n",
        "dataset = pd.read_csv('aa.csv')\n",
        "X = dataset.iloc[:, 1:15].values\n",
        "y11 = dataset.iloc[:, 15].values"
      ],
      "metadata": {
        "id": "rSme0zxcOzav"
      },
      "execution_count": 6,
      "outputs": []
    },
    {
      "cell_type": "code",
      "execution_count": 7,
      "metadata": {
        "colab": {
          "base_uri": "https://localhost:8080/"
        },
        "id": "HoLQOE4AxzvO",
        "outputId": "4e5fe309-b334-402e-bd23-eacf441aa88d"
      },
      "outputs": [
        {
          "output_type": "execute_result",
          "data": {
            "text/plain": [
              "((158, 14), (158,))"
            ]
          },
          "metadata": {},
          "execution_count": 7
        }
      ],
      "source": [
        "dataset = 'aa'\n",
        "numComponents = 4\n",
        "test_ratio = 0.2\n",
        "#windowSize = 15\n",
        "h1 = X.shape[0]\n",
        "w1 = X.shape[1]\n",
        "X.shape, y11.shape"
      ]
    },
    {
      "cell_type": "code",
      "execution_count": 8,
      "metadata": {
        "id": "vtHCG1msgnVj"
      },
      "outputs": [],
      "source": [
        "status = 'max' #'mean' or 'max' choosing the status is used to enhance classes' variation.\n",
        "sigma = 0.30 # σ is used to reduce the distance between values of the same class.\n",
        "\n",
        "X1, y1 = ETR(X,y11, status, sigma, numComponents)\n"
      ]
    },
    {
      "cell_type": "code",
      "source": [
        "from matplotlib import pyplot\n",
        "pyplot.figure(figsize=(7,5))\n",
        "pyplot.hist(X1[:,:], bins=25)\n",
        "pyplot.suptitle(\"Main Dataset\")\n",
        "pyplot.show()\n"
      ],
      "metadata": {
        "colab": {
          "base_uri": "https://localhost:8080/",
          "height": 356
        },
        "id": "-_p4aEiFd3lb",
        "outputId": "77b5e2ec-0d2c-4288-85db-f1ba144f80c1"
      },
      "execution_count": 9,
      "outputs": [
        {
          "output_type": "display_data",
          "data": {
            "text/plain": [
              "<Figure size 504x360 with 1 Axes>"
            ],
            "image/png": "[encoded data removed]"
          },
          "metadata": {
            "needs_background": "light"
          }
        }
      ]
    },
    {
      "cell_type": "code",
      "source": [
        "pyplot.figure(figsize=(7,5))\n",
        "c = pyplot.boxplot(X1[:,:])\n",
        "top_points = c[\"fliers\"][0].get_data()[1]\n",
        "pyplot.boxplot(X1[:,:])\n",
        "pyplot.suptitle(\"Main Dataset\")\n",
        "pyplot.show()\n",
        "top_points"
      ],
      "metadata": {
        "colab": {
          "base_uri": "https://localhost:8080/",
          "height": 373
        },
        "id": "JCNbookajVWL",
        "outputId": "82410ae5-003b-4e28-de89-008ffc8d1387"
      },
      "execution_count": 10,
      "outputs": [
        {
          "output_type": "display_data",
          "data": {
            "text/plain": [
              "<Figure size 504x360 with 1 Axes>"
            ],
            "image/png": "[encoded data removed]"
          },
          "metadata": {
            "needs_background": "light"
          }
        },
        {
          "output_type": "execute_result",
          "data": {
            "text/plain": [
              "array([-5.19933758, -3.36521745,  5.19933758,  5.19933758,  2.67070568])"
            ]
          },
          "metadata": {},
          "execution_count": 10
        }
      ]
    },
    {
      "cell_type": "code",
      "source": [],
      "metadata": {
        "id": "w957JUmJmz1G"
      },
      "execution_count": 10,
      "outputs": []
    }
  ],
  "metadata": {
    "colab": {
      "collapsed_sections": [],
      "machine_shape": "hm",
      "provenance": []
    },
    "kernelspec": {
      "display_name": "Python 3",
      "language": "python",
      "name": "python3"
    },
    "language_info": {
      "codemirror_mode": {
        "name": "ipython",
        "version": 3
      },
      "file_extension": ".py",
      "mimetype": "text/x-python",
      "name": "python",
      "nbconvert_exporter": "python",
      "pygments_lexer": "ipython3",
      "version": "3.6.8"
    },
    "gpuClass": "standard"
  },
  "nbformat": 4,
  "nbformat_minor": 0
}